{
  "cells": [
    {
      "cell_type": "markdown",
      "metadata": {
        "id": "view-in-github",
        "colab_type": "text"
      },
      "source": [
        "<a href=\"https://colab.research.google.com/github/Doalm/CienciaDatos-MASDI/blob/main/2_R_logistica_Admisiones_clase.ipynb\" target=\"_parent\"><img src=\"https://colab.research.google.com/assets/colab-badge.svg\" alt=\"Open In Colab\"/></a>"
      ]
    },
    {
      "cell_type": "markdown",
      "metadata": {
        "id": "WWVvuihV7B4N"
      },
      "source": [
        "# Regresión Logistica para predecir - Admisiones a Universidades de Ranking Mundial\n",
        "\n",
        "Este conjunto de datos se creó para predecir las admisiones de posgrado desde una perspectiva de la India.\n",
        "\n",
        "El conjunto de datos contiene varios parámetros que se consideran importantes durante el proceso de solicitud de posgrado. Los parámetros incluidos son:\n",
        "\n",
        "1. GRE Scores (out of 340)\n",
        "2. TOEFL Scores (out of 120)\n",
        "3. University Rating (out of 5)\n",
        "4. Statement of Purpose Strength (SOP) (out of 5)\n",
        "5. Letter of Recommendation Strength (LOR) (out of 5)\n",
        "6. Undergraduate GPA (CGPA) (out of 10)\n",
        "7. Research Experience (either 0 or 1)\n",
        "8. Chance of Admit (ranging from 0 to 1)\n",
        "\n",
        "https://www.kaggle.com/datasets/mohansacharya/graduate-admissions\n",
        "\n",
        "[Dataset Predicción de Admisión](https://www.kaggle.com/mohansacharya/graduate-admissions?select=Admission_Predict.csv)"
      ]
    },
    {
      "cell_type": "code",
      "source": [],
      "metadata": {
        "id": "06dfUG8t5QaP"
      },
      "execution_count": null,
      "outputs": []
    },
    {
      "cell_type": "code",
      "execution_count": null,
      "metadata": {
        "id": "pkUtTxR-tYdY"
      },
      "outputs": [],
      "source": [
        "!pip install gdown --quiet"
      ]
    },
    {
      "cell_type": "code",
      "execution_count": null,
      "metadata": {
        "id": "2OUko7vQtLBO"
      },
      "outputs": [],
      "source": [
        "import gdown\n",
        "\n",
        "url = 'https://drive.google.com/file/d/13K2KnZlSGuan7hNC0rku1SrkxhGbMuRG/view?usp=sharing'\n",
        "output_path = 'Admission_Predict_Ver1_1.csv'\n",
        "gdown.download(url, output_path, quiet=False,fuzzy=True)"
      ]
    },
    {
      "cell_type": "code",
      "execution_count": null,
      "metadata": {
        "id": "eSSc158P8a5s"
      },
      "outputs": [],
      "source": [
        "import pandas as pd\n",
        "import matplotlib.pyplot as plt\n",
        "import numpy as np\n",
        "import seaborn as sns\n",
        "from sklearn.linear_model import LogisticRegression\n",
        "from sklearn.metrics import classification_report, confusion_matrix\n",
        "from sklearn.model_selection import train_test_split\n",
        "from sklearn.preprocessing import StandardScaler"
      ]
    },
    {
      "cell_type": "markdown",
      "metadata": {
        "id": "yOC2GDMPn4YE"
      },
      "source": [
        "### Obtener los datos de un dataset y almacenarlos en un dataframe de pandas."
      ]
    },
    {
      "cell_type": "code",
      "execution_count": null,
      "metadata": {
        "id": "VUqitQQUn6dP"
      },
      "outputs": [],
      "source": []
    },
    {
      "cell_type": "markdown",
      "metadata": {
        "id": "y2iA3rxp_Via"
      },
      "source": [
        "### Descripción de los atributos\n",
        "\n",
        "- GRE Scores: Prueba de aptitud estandarizada para programas de posgrado que mide el pensamiento abstracto en áreas como la comprensión lectora, la escritura y las matemáticas.\n",
        "- TOEFL Scores: Prueba de Ingles\n",
        "- University Rating: Valoración de la Universidad\n",
        "- SOP: Carta de Intenciones\n",
        "- LOR: Carta de Recomendación\n",
        "- CGPA: Promedio del Pregrado\n",
        "- Research Experience: Experiencia en Investigación\n",
        "- **Chance of Admit** (TARGET): Posibilidad de admisión"
      ]
    },
    {
      "cell_type": "markdown",
      "metadata": {
        "id": "U3mbam2zoIoV"
      },
      "source": [
        "### Presentar la cabecera de datos. De esta manera es posible identificar observar los 5 primeros datos del dataset.\n"
      ]
    },
    {
      "cell_type": "code",
      "execution_count": null,
      "metadata": {
        "id": "vKrCSD1D_WY0"
      },
      "outputs": [],
      "source": []
    },
    {
      "cell_type": "code",
      "execution_count": null,
      "metadata": {
        "id": "WVA3Ac9LtLV6"
      },
      "outputs": [],
      "source": []
    },
    {
      "cell_type": "markdown",
      "metadata": {
        "id": "pMTj-U6DAb50"
      },
      "source": [
        "### En el siguiente mapa de calor se ve cual es la correlación existente entre todos los valores del dataset con la probabilidad de ser admitido en la universidad."
      ]
    },
    {
      "cell_type": "code",
      "execution_count": null,
      "metadata": {
        "id": "GQd23h4I9bnq"
      },
      "outputs": [],
      "source": [
        "# Mostrar la correlación entre todos los datos utilizando sns.heatmap\n"
      ]
    },
    {
      "cell_type": "code",
      "execution_count": null,
      "metadata": {
        "id": "R3YVHtlSA4pi"
      },
      "outputs": [],
      "source": []
    },
    {
      "cell_type": "markdown",
      "metadata": {
        "id": "O136bkhbBJIF"
      },
      "source": [
        "### **Actividad 1**. Basandose en el mapa de calor eliminar las características que presentan una correlación menor al $70\\text{\\%}$ con la probabilidad de ser admitido.\n"
      ]
    },
    {
      "cell_type": "code",
      "execution_count": null,
      "metadata": {
        "id": "fveZ82u7BszY"
      },
      "outputs": [],
      "source": [
        "#---Introducir Codigo ---\n"
      ]
    },
    {
      "cell_type": "markdown",
      "metadata": {
        "id": "wqsTwH3TCKBF"
      },
      "source": [
        "### Se crea una copia del dataframe procesado."
      ]
    },
    {
      "cell_type": "code",
      "execution_count": null,
      "metadata": {
        "id": "f9Kt-ro1CS3a"
      },
      "outputs": [],
      "source": []
    },
    {
      "cell_type": "code",
      "execution_count": null,
      "metadata": {
        "id": "hSnpwrc8CprH"
      },
      "outputs": [],
      "source": [
        "# Muestra las dimensiones del dataframe procesado\n"
      ]
    },
    {
      "cell_type": "markdown",
      "metadata": {
        "id": "R-q1EZaqCyRe"
      },
      "source": [
        "# Implementación del algoritmo de Machine Learning\n",
        "\n",
        "### Se creara el target, el cual es seleccionado utilizando el valor medio de la probabilidad de ser admitido. El valor de media de dicha característica indica una alta probabilidad de ser seleccionado en un programa de pregrado."
      ]
    },
    {
      "cell_type": "code",
      "execution_count": null,
      "metadata": {
        "id": "ibzxRDicDRX8"
      },
      "outputs": [],
      "source": []
    },
    {
      "cell_type": "code",
      "execution_count": null,
      "metadata": {
        "id": "1ING3cPbDZaC"
      },
      "outputs": [],
      "source": [
        "# Crear los targets, se crea un vector en donde se asigna 1 a los valores mayores a la media de la probabilidad de ser admitido y 0 a los menores.\n"
      ]
    },
    {
      "cell_type": "markdown",
      "metadata": {
        "id": "VyZMDhz4EDE6"
      },
      "source": [
        "### **Actividad 2.** Agregar una columna nueva al dataset con el target, se puede llamar a la columna 'Target' crear una copia del mismo dataset y almacenarla en una nueva variable y eliminar la columna 'Chance of Admit'"
      ]
    },
    {
      "cell_type": "code",
      "execution_count": null,
      "metadata": {
        "id": "-RSZr7f_D-1J"
      },
      "outputs": [],
      "source": [
        "# --- Introducir el codigo Aqui ---\n"
      ]
    },
    {
      "cell_type": "code",
      "execution_count": null,
      "metadata": {
        "id": "AIQLdZOYwIuY"
      },
      "outputs": [],
      "source": []
    },
    {
      "cell_type": "markdown",
      "metadata": {
        "id": "UaP-EpKEGB9h"
      },
      "source": [
        "### Se realiza la selección para los datos de entrada de la regresión."
      ]
    },
    {
      "cell_type": "code",
      "execution_count": null,
      "metadata": {
        "id": "-YQqKz-4Gcun"
      },
      "outputs": [],
      "source": []
    },
    {
      "cell_type": "markdown",
      "metadata": {
        "id": "qW1ek2dNGk_-"
      },
      "source": [
        "### **Actividad 3.** Utilizar la función de **Split the data into train & test sets**, asignar una relación de 80%-20% entre train y test."
      ]
    },
    {
      "cell_type": "code",
      "execution_count": null,
      "metadata": {
        "id": "bdSct5faH1yw"
      },
      "outputs": [],
      "source": [
        "# ---Introducir codigo Aqui ---\n"
      ]
    },
    {
      "cell_type": "code",
      "execution_count": null,
      "metadata": {
        "id": "Rf9jCsp8IDRB"
      },
      "outputs": [],
      "source": [
        "# Displaying the shape of the train and test datasets and targets\n"
      ]
    },
    {
      "cell_type": "markdown",
      "metadata": {
        "id": "xny6i2mrIdA9"
      },
      "source": [
        "### **Actividad 4.** Crear y entrenar el modelo de regresión logistica, aplicando la regularización del tipo L2, solver = 'liblinear'."
      ]
    },
    {
      "cell_type": "code",
      "execution_count": null,
      "metadata": {
        "id": "lAUKilreI5rY"
      },
      "outputs": [],
      "source": [
        "#---Introducir Codigo Aqui ----\n",
        "# Crear modelo de regresión logistica\n",
        "# Fit the data to the model\n"
      ]
    },
    {
      "cell_type": "markdown",
      "metadata": {
        "id": "pmfphZqUJmAd"
      },
      "source": [
        "### **Actividad 5.** Evaluar el Comportamiento del modelo, realizar variaciones en el valor de la regularización y registrar los valores que presenten una mejora en el modelo."
      ]
    },
    {
      "cell_type": "code",
      "execution_count": null,
      "metadata": {
        "id": "9CxVnJb-Jbys"
      },
      "outputs": [],
      "source": [
        "#x_test = scaler.transform(x_test) ?\n"
      ]
    },
    {
      "cell_type": "code",
      "execution_count": null,
      "metadata": {
        "id": "CgipPbPvwyhd"
      },
      "outputs": [],
      "source": []
    },
    {
      "cell_type": "code",
      "execution_count": null,
      "metadata": {
        "id": "STnw0wCbuJTY"
      },
      "outputs": [],
      "source": [
        "def heatmapgraph(data, title):\n",
        "  ax = sns.heatmap(data, annot=True,xticklabels=['No Accepted','Accepted'],\n",
        "                yticklabels=['No Diabetes','Diabetes'],cbar=False, cmap='Blues')\n",
        "  ax.set_title(title + \" Confusion Matrix\")\n",
        "  ax.set_xlabel(\"Predicted\")\n",
        "  ax.set_ylabel(\"Actual\")"
      ]
    },
    {
      "cell_type": "code",
      "execution_count": null,
      "metadata": {
        "id": "gnHX1NTrv2L9"
      },
      "outputs": [],
      "source": []
    },
    {
      "cell_type": "markdown",
      "metadata": {
        "id": "CS-tBFo4M6RI"
      },
      "source": [
        "## Creando Tabla con resumen de resultados\n"
      ]
    },
    {
      "cell_type": "code",
      "execution_count": null,
      "metadata": {
        "id": "qFkRzFFSLnZP"
      },
      "outputs": [],
      "source": []
    },
    {
      "cell_type": "markdown",
      "metadata": {
        "id": "hU16ywE_4-Ej"
      },
      "source": [
        "# Preguntas y Actividades.\n",
        "\n",
        "**Comprobar las siguientes preguntas**\n",
        "\n",
        "1. Utilizando el optimizador liblinear y un valor de penalización diferente al definido, mejoraría el rendimiento del modelo?\n",
        "\n",
        "2. Modificando el nivel de exigencia para las características que se utilizan para entrenar el modelo, se lograría mejorar los resultados en las predicciónes?\n",
        "\n",
        "3. Eliminando la característica que tiene un menor peso en el resultado inicial (University Rating), se obtendría un mejor rendimiento?"
      ]
    }
  ],
  "metadata": {
    "colab": {
      "provenance": [],
      "include_colab_link": true
    },
    "kernelspec": {
      "display_name": "tf",
      "language": "python",
      "name": "python3"
    },
    "language_info": {
      "codemirror_mode": {
        "name": "ipython",
        "version": 3
      },
      "file_extension": ".py",
      "mimetype": "text/x-python",
      "name": "python",
      "nbconvert_exporter": "python",
      "pygments_lexer": "ipython3",
      "version": "3.9.18"
    }
  },
  "nbformat": 4,
  "nbformat_minor": 0
}